{
  "nbformat": 4,
  "nbformat_minor": 0,
  "metadata": {
    "colab": {
      "provenance": [],
      "authorship_tag": "ABX9TyNjRdrizmgZfu0QzSzsqOsJ",
      "include_colab_link": true
    },
    "kernelspec": {
      "name": "python3",
      "display_name": "Python 3"
    },
    "language_info": {
      "name": "python"
    }
  },
  "cells": [
    {
      "cell_type": "markdown",
      "metadata": {
        "id": "view-in-github",
        "colab_type": "text"
      },
      "source": [
        "<a href=\"https://colab.research.google.com/github/OhSSangHoon/colab/blob/main/%EB%B9%85%EB%8D%B0%EC%9D%B4%ED%84%B0%EB%B6%84%EC%84%9D_21812068_%EC%98%A4%EC%83%81%ED%9B%88.ipynb\" target=\"_parent\"><img src=\"https://colab.research.google.com/assets/colab-badge.svg\" alt=\"Open In Colab\"/></a>"
      ]
    },
    {
      "cell_type": "code",
      "execution_count": null,
      "metadata": {
        "id": "zvLnT94mMjbA"
      },
      "outputs": [],
      "source": [
        "def get_book_pub(isbn):\n",
        "    url = 'https://search.kyobobook.co.kr/web/search?vPstrKeyWord={}&vPstrTab=PRODUCT'\n",
        "\n",
        "    response = requests.get(url.format(isbn))\n",
        "\n",
        "    soup = BeautifulSoup(response.text, 'html.parser')\n",
        "\n",
        "    # 출판사와 출판년도를 포함하는 prod_publish 태그 추출\n",
        "    pub_info = soup.find('div', attrs={'class':'prod_publish'})\n",
        "\n",
        "    if pub_info:\n",
        "        # 추출해보니 출판사명뿐만 아니라 날짜까지 함께 나와서 출판사명만 따로 추출\n",
        "        # prod_publish 태그를 추출하지않고 바로 text 태그를 추출해도 되지만 span에도 text클래스가 있어서\n",
        "        # 혹시나 다른 정보를 가져올까봐 prod_publish를 추출하고 그안의 text를 추출했음\n",
        "        a_tag = pub_info.find('a', attrs={'class':'text'})\n",
        "        if a_tag:\n",
        "            return a_tag.get_text()\n",
        "    else:\n",
        "        return None"
      ]
    },
    {
      "cell_type": "code",
      "source": [
        "def get_book_author(isbn):\n",
        "    url = 'https://search.kyobobook.co.kr/web/search?vPstrKeyWord={}&vPstrTab=PRODUCT'\n",
        "\n",
        "    response = requests.get(url.format(isbn))\n",
        "\n",
        "    soup = BeautifulSoup(response.text, 'html.parser')\n",
        "\n",
        "    # 저자 정보를 포함하는 prod_author 태그 추출\n",
        "    author_info = soup.find('a', attrs={'class':'author'})\n",
        "\n",
        "    if author_info:\n",
        "      return author_info.get_text()\n",
        "    else:\n",
        "      return None\n",
        "\n"
      ],
      "metadata": {
        "id": "H0RcDk7PMxnG"
      },
      "execution_count": null,
      "outputs": []
    },
    {
      "cell_type": "code",
      "source": [
        "def get_book_date(isbn):\n",
        "    url = 'https://search.kyobobook.co.kr/web/search?vPstrKeyWord={}&vPstrTab=PRODUCT'\n",
        "\n",
        "    response = requests.get(url.format(isbn))\n",
        "\n",
        "    soup = BeautifulSoup(response.text, 'html.parser')\n",
        "\n",
        "    # 출판사 및 출판일자를 포함하는 prod_publish 태그 추출\n",
        "    publish = soup.find('div', attrs={'class':'prod_publish'})\n",
        "\n",
        "    if publish:\n",
        "      # 위의 출판사와 마찬가지로 prod_publish 추출 후 date 추출\n",
        "      date_info = soup.find('span', attrs={'class':'date'})\n",
        "\n",
        "      year = re.findall(r'\\d{4}', date_info.get_text()) # 정규표현식을 사용하여 연도만 추출\n",
        "      if year:\n",
        "        return year[0]\n",
        "      else:\n",
        "        return None\n",
        "    else:\n",
        "      return None"
      ],
      "metadata": {
        "id": "G2OTTzGuM0BL"
      },
      "execution_count": null,
      "outputs": []
    }
  ]
}